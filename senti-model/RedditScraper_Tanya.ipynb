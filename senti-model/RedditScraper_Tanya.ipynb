{
 "cells": [
  {
   "cell_type": "markdown",
   "metadata": {},
   "source": [
    "# Authentication"
   ]
  },
  {
   "cell_type": "code",
   "execution_count": 1,
   "metadata": {},
   "outputs": [],
   "source": [
    "import praw\n",
    "import pandas as pd\n",
    "\n",
    "# customizable variables\n",
    "my_client_secret = '3_2mkql4xpPVqQmkXlFD8NOtWcZ7Ng'\n",
    "my_client_id = 'GTwZc88mJMERuG-1EYh1sQ'\n",
    "my_user_agent = 'HackDuke'\n",
    "topics = ['anxiety', 'depression', 'SuicideWatch']\n",
    "num_post_per_topic = 10"
   ]
  },
  {
   "cell_type": "code",
   "execution_count": 2,
   "metadata": {},
   "outputs": [],
   "source": [
    "reddit = praw.Reddit(client_id=my_client_id, client_secret=my_client_secret, user_agent=my_user_agent)\n"
   ]
  },
  {
   "cell_type": "markdown",
   "metadata": {},
   "source": [
    "# Start Scraping"
   ]
  },
  {
   "cell_type": "code",
   "execution_count": 3,
   "metadata": {},
   "outputs": [
    {
     "data": {
      "text/html": [
       "<div>\n",
       "<style scoped>\n",
       "    .dataframe tbody tr th:only-of-type {\n",
       "        vertical-align: middle;\n",
       "    }\n",
       "\n",
       "    .dataframe tbody tr th {\n",
       "        vertical-align: top;\n",
       "    }\n",
       "\n",
       "    .dataframe thead th {\n",
       "        text-align: right;\n",
       "    }\n",
       "</style>\n",
       "<table border=\"1\" class=\"dataframe\">\n",
       "  <thead>\n",
       "    <tr style=\"text-align: right;\">\n",
       "      <th></th>\n",
       "      <th>topic</th>\n",
       "      <th>title</th>\n",
       "      <th>score</th>\n",
       "      <th>id</th>\n",
       "      <th>subreddit</th>\n",
       "      <th>url</th>\n",
       "      <th>num_comments</th>\n",
       "      <th>body</th>\n",
       "      <th>created</th>\n",
       "    </tr>\n",
       "  </thead>\n",
       "  <tbody>\n",
       "    <tr>\n",
       "      <th>0</th>\n",
       "      <td>anxiety</td>\n",
       "      <td>Let your light shine!</td>\n",
       "      <td>17</td>\n",
       "      <td>qc0aqd</td>\n",
       "      <td>Anxiety</td>\n",
       "      <td>https://www.reddit.com/r/Anxiety/comments/qc0a...</td>\n",
       "      <td>23</td>\n",
       "      <td>Congrats /r/anxiety we've all made it to Wedne...</td>\n",
       "      <td>1.634735e+09</td>\n",
       "    </tr>\n",
       "    <tr>\n",
       "      <th>1</th>\n",
       "      <td>anxiety</td>\n",
       "      <td>Looking for new mods! (subreddit and Discord)</td>\n",
       "      <td>12</td>\n",
       "      <td>qb0ort</td>\n",
       "      <td>Anxiety</td>\n",
       "      <td>https://www.reddit.com/r/Anxiety/comments/qb0o...</td>\n",
       "      <td>0</td>\n",
       "      <td>With both the subreddit and Discord continuing...</td>\n",
       "      <td>1.634606e+09</td>\n",
       "    </tr>\n",
       "    <tr>\n",
       "      <th>2</th>\n",
       "      <td>anxiety</td>\n",
       "      <td>fuck</td>\n",
       "      <td>159</td>\n",
       "      <td>qe7rl0</td>\n",
       "      <td>Anxiety</td>\n",
       "      <td>https://www.reddit.com/r/Anxiety/comments/qe7r...</td>\n",
       "      <td>32</td>\n",
       "      <td>I went to get my haircut and the person cuttin...</td>\n",
       "      <td>1.635005e+09</td>\n",
       "    </tr>\n",
       "    <tr>\n",
       "      <th>3</th>\n",
       "      <td>anxiety</td>\n",
       "      <td>Do you find that your relationships take a hit...</td>\n",
       "      <td>208</td>\n",
       "      <td>qe30oj</td>\n",
       "      <td>Anxiety</td>\n",
       "      <td>https://www.reddit.com/r/Anxiety/comments/qe30...</td>\n",
       "      <td>15</td>\n",
       "      <td>I find myself forgetting to show attention, co...</td>\n",
       "      <td>1.634988e+09</td>\n",
       "    </tr>\n",
       "    <tr>\n",
       "      <th>4</th>\n",
       "      <td>anxiety</td>\n",
       "      <td>Does anybody have like a week of no anxiety th...</td>\n",
       "      <td>127</td>\n",
       "      <td>qe3u9l</td>\n",
       "      <td>Anxiety</td>\n",
       "      <td>https://www.reddit.com/r/Anxiety/comments/qe3u...</td>\n",
       "      <td>18</td>\n",
       "      <td>I swear I have been in a cycle of going “I’ve ...</td>\n",
       "      <td>1.634992e+09</td>\n",
       "    </tr>\n",
       "  </tbody>\n",
       "</table>\n",
       "</div>"
      ],
      "text/plain": [
       "     topic                                              title  score      id  \\\n",
       "0  anxiety                              Let your light shine!     17  qc0aqd   \n",
       "1  anxiety      Looking for new mods! (subreddit and Discord)     12  qb0ort   \n",
       "2  anxiety                                               fuck    159  qe7rl0   \n",
       "3  anxiety  Do you find that your relationships take a hit...    208  qe30oj   \n",
       "4  anxiety  Does anybody have like a week of no anxiety th...    127  qe3u9l   \n",
       "\n",
       "  subreddit                                                url  num_comments  \\\n",
       "0   Anxiety  https://www.reddit.com/r/Anxiety/comments/qc0a...            23   \n",
       "1   Anxiety  https://www.reddit.com/r/Anxiety/comments/qb0o...             0   \n",
       "2   Anxiety  https://www.reddit.com/r/Anxiety/comments/qe7r...            32   \n",
       "3   Anxiety  https://www.reddit.com/r/Anxiety/comments/qe30...            15   \n",
       "4   Anxiety  https://www.reddit.com/r/Anxiety/comments/qe3u...            18   \n",
       "\n",
       "                                                body       created  \n",
       "0  Congrats /r/anxiety we've all made it to Wedne...  1.634735e+09  \n",
       "1  With both the subreddit and Discord continuing...  1.634606e+09  \n",
       "2  I went to get my haircut and the person cuttin...  1.635005e+09  \n",
       "3  I find myself forgetting to show attention, co...  1.634988e+09  \n",
       "4  I swear I have been in a cycle of going “I’ve ...  1.634992e+09  "
      ]
     },
     "execution_count": 3,
     "metadata": {},
     "output_type": "execute_result"
    }
   ],
   "source": [
    "posts = []\n",
    "for topic in topics:\n",
    "    ml_subreddit = reddit.subreddit(topic)\n",
    "    for post in ml_subreddit.hot(limit=num_post_per_topic):\n",
    "        posts.append([topic, post.title, post.score, post.id, post.subreddit, post.url, post.num_comments, post.selftext, post.created])\n",
    "\n",
    "posts = pd.DataFrame(posts,columns=['topic','title', 'score', 'id', 'subreddit', 'url', 'num_comments', 'body', 'created'])\n",
    "posts.head(5)"
   ]
  },
  {
   "cell_type": "markdown",
   "metadata": {},
   "source": [
    "# Save as .csv"
   ]
  },
  {
   "cell_type": "code",
   "execution_count": 7,
   "metadata": {},
   "outputs": [],
   "source": [
    "posts.to_csv('data/reddit_data.csv', encoding='utf-8', index=False)"
   ]
  }
 ],
 "metadata": {
  "kernelspec": {
   "display_name": "Python 3",
   "language": "python",
   "name": "python3"
  },
  "language_info": {
   "codemirror_mode": {
    "name": "ipython",
    "version": 3
   },
   "file_extension": ".py",
   "mimetype": "text/x-python",
   "name": "python",
   "nbconvert_exporter": "python",
   "pygments_lexer": "ipython3",
   "version": "3.7.4"
  }
 },
 "nbformat": 4,
 "nbformat_minor": 4
}
